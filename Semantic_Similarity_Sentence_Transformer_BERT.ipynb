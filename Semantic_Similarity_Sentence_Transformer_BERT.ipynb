{
  "nbformat": 4,
  "nbformat_minor": 0,
  "metadata": {
    "colab": {
      "name": "Semantic_Similarity_Sentence_Transformer .ipynb",
      "provenance": [],
      "collapsed_sections": []
    },
    "kernelspec": {
      "name": "python3",
      "display_name": "Python 3"
    }
  },
  "cells": [
    {
      "cell_type": "code",
      "metadata": {
        "id": "e1SEegTp7HkJ",
        "colab_type": "code",
        "colab": {
          "base_uri": "https://localhost:8080/",
          "height": 768
        },
        "outputId": "8109b57e-05ed-453e-ed0c-65e6e501f92c"
      },
      "source": [
        "!pip install -U sentence-transformers\n",
        "\n"
      ],
      "execution_count": 2,
      "outputs": [
        {
          "output_type": "stream",
          "text": [
            "Collecting sentence-transformers\n",
            "\u001b[?25l  Downloading https://files.pythonhosted.org/packages/c9/91/c85ddef872d5bb39949386930c1f834ac382e145fcd30155b09d6fb65c5a/sentence-transformers-0.2.5.tar.gz (49kB)\n",
            "\r\u001b[K     |██████▋                         | 10kB 17.6MB/s eta 0:00:01\r\u001b[K     |█████████████▎                  | 20kB 2.2MB/s eta 0:00:01\r\u001b[K     |███████████████████▉            | 30kB 2.9MB/s eta 0:00:01\r\u001b[K     |██████████████████████████▌     | 40kB 2.1MB/s eta 0:00:01\r\u001b[K     |████████████████████████████████| 51kB 2.0MB/s \n",
            "\u001b[?25hCollecting transformers==2.3.0\n",
            "\u001b[?25l  Downloading https://files.pythonhosted.org/packages/50/10/aeefced99c8a59d828a92cc11d213e2743212d3641c87c82d61b035a7d5c/transformers-2.3.0-py3-none-any.whl (447kB)\n",
            "\r\u001b[K     |▊                               | 10kB 16.1MB/s eta 0:00:01\r\u001b[K     |█▌                              | 20kB 22.4MB/s eta 0:00:01\r\u001b[K     |██▏                             | 30kB 28.5MB/s eta 0:00:01\r\u001b[K     |███                             | 40kB 17.1MB/s eta 0:00:01\r\u001b[K     |███▋                            | 51kB 5.6MB/s eta 0:00:01\r\u001b[K     |████▍                           | 61kB 6.5MB/s eta 0:00:01\r\u001b[K     |█████▏                          | 71kB 6.9MB/s eta 0:00:01\r\u001b[K     |█████▉                          | 81kB 7.2MB/s eta 0:00:01\r\u001b[K     |██████▋                         | 92kB 7.9MB/s eta 0:00:01\r\u001b[K     |███████▎                        | 102kB 8.5MB/s eta 0:00:01\r\u001b[K     |████████                        | 112kB 8.5MB/s eta 0:00:01\r\u001b[K     |████████▉                       | 122kB 8.5MB/s eta 0:00:01\r\u001b[K     |█████████▌                      | 133kB 8.5MB/s eta 0:00:01\r\u001b[K     |██████████▎                     | 143kB 8.5MB/s eta 0:00:01\r\u001b[K     |███████████                     | 153kB 8.5MB/s eta 0:00:01\r\u001b[K     |███████████▊                    | 163kB 8.5MB/s eta 0:00:01\r\u001b[K     |████████████▌                   | 174kB 8.5MB/s eta 0:00:01\r\u001b[K     |█████████████▏                  | 184kB 8.5MB/s eta 0:00:01\r\u001b[K     |██████████████                  | 194kB 8.5MB/s eta 0:00:01\r\u001b[K     |██████████████▋                 | 204kB 8.5MB/s eta 0:00:01\r\u001b[K     |███████████████▍                | 215kB 8.5MB/s eta 0:00:01\r\u001b[K     |████████████████▏               | 225kB 8.5MB/s eta 0:00:01\r\u001b[K     |████████████████▉               | 235kB 8.5MB/s eta 0:00:01\r\u001b[K     |█████████████████▋              | 245kB 8.5MB/s eta 0:00:01\r\u001b[K     |██████████████████▎             | 256kB 8.5MB/s eta 0:00:01\r\u001b[K     |███████████████████             | 266kB 8.5MB/s eta 0:00:01\r\u001b[K     |███████████████████▊            | 276kB 8.5MB/s eta 0:00:01\r\u001b[K     |████████████████████▌           | 286kB 8.5MB/s eta 0:00:01\r\u001b[K     |█████████████████████▎          | 296kB 8.5MB/s eta 0:00:01\r\u001b[K     |██████████████████████          | 307kB 8.5MB/s eta 0:00:01\r\u001b[K     |██████████████████████▊         | 317kB 8.5MB/s eta 0:00:01\r\u001b[K     |███████████████████████▍        | 327kB 8.5MB/s eta 0:00:01\r\u001b[K     |████████████████████████▏       | 337kB 8.5MB/s eta 0:00:01\r\u001b[K     |█████████████████████████       | 348kB 8.5MB/s eta 0:00:01\r\u001b[K     |█████████████████████████▋      | 358kB 8.5MB/s eta 0:00:01\r\u001b[K     |██████████████████████████▍     | 368kB 8.5MB/s eta 0:00:01\r\u001b[K     |███████████████████████████     | 378kB 8.5MB/s eta 0:00:01\r\u001b[K     |███████████████████████████▉    | 389kB 8.5MB/s eta 0:00:01\r\u001b[K     |████████████████████████████▋   | 399kB 8.5MB/s eta 0:00:01\r\u001b[K     |█████████████████████████████▎  | 409kB 8.5MB/s eta 0:00:01\r\u001b[K     |██████████████████████████████  | 419kB 8.5MB/s eta 0:00:01\r\u001b[K     |██████████████████████████████▊ | 430kB 8.5MB/s eta 0:00:01\r\u001b[K     |███████████████████████████████▌| 440kB 8.5MB/s eta 0:00:01\r\u001b[K     |████████████████████████████████| 450kB 8.5MB/s \n",
            "\u001b[?25hRequirement already satisfied, skipping upgrade: tqdm in /usr/local/lib/python3.6/dist-packages (from sentence-transformers) (4.28.1)\n",
            "Requirement already satisfied, skipping upgrade: torch>=1.0.1 in /usr/local/lib/python3.6/dist-packages (from sentence-transformers) (1.4.0)\n",
            "Requirement already satisfied, skipping upgrade: numpy in /usr/local/lib/python3.6/dist-packages (from sentence-transformers) (1.17.5)\n",
            "Requirement already satisfied, skipping upgrade: scikit-learn in /usr/local/lib/python3.6/dist-packages (from sentence-transformers) (0.22.1)\n",
            "Requirement already satisfied, skipping upgrade: scipy in /usr/local/lib/python3.6/dist-packages (from sentence-transformers) (1.4.1)\n",
            "Requirement already satisfied, skipping upgrade: nltk in /usr/local/lib/python3.6/dist-packages (from sentence-transformers) (3.2.5)\n",
            "Requirement already satisfied, skipping upgrade: boto3 in /usr/local/lib/python3.6/dist-packages (from transformers==2.3.0->sentence-transformers) (1.11.10)\n",
            "Requirement already satisfied, skipping upgrade: regex!=2019.12.17 in /usr/local/lib/python3.6/dist-packages (from transformers==2.3.0->sentence-transformers) (2019.12.20)\n",
            "Collecting sentencepiece\n",
            "\u001b[?25l  Downloading https://files.pythonhosted.org/packages/74/f4/2d5214cbf13d06e7cb2c20d84115ca25b53ea76fa1f0ade0e3c9749de214/sentencepiece-0.1.85-cp36-cp36m-manylinux1_x86_64.whl (1.0MB)\n",
            "\r\u001b[K     |▎                               | 10kB 15.3MB/s eta 0:00:01\r\u001b[K     |▋                               | 20kB 21.9MB/s eta 0:00:01\r\u001b[K     |█                               | 30kB 27.9MB/s eta 0:00:01\r\u001b[K     |█▎                              | 40kB 31.6MB/s eta 0:00:01\r\u001b[K     |█▋                              | 51kB 18.0MB/s eta 0:00:01\r\u001b[K     |██                              | 61kB 20.3MB/s eta 0:00:01\r\u001b[K     |██▏                             | 71kB 18.7MB/s eta 0:00:01\r\u001b[K     |██▌                             | 81kB 20.0MB/s eta 0:00:01\r\u001b[K     |██▉                             | 92kB 20.4MB/s eta 0:00:01\r\u001b[K     |███▏                            | 102kB 18.4MB/s eta 0:00:01\r\u001b[K     |███▌                            | 112kB 18.4MB/s eta 0:00:01\r\u001b[K     |███▉                            | 122kB 18.4MB/s eta 0:00:01\r\u001b[K     |████                            | 133kB 18.4MB/s eta 0:00:01\r\u001b[K     |████▍                           | 143kB 18.4MB/s eta 0:00:01\r\u001b[K     |████▊                           | 153kB 18.4MB/s eta 0:00:01\r\u001b[K     |█████                           | 163kB 18.4MB/s eta 0:00:01\r\u001b[K     |█████▍                          | 174kB 18.4MB/s eta 0:00:01\r\u001b[K     |█████▊                          | 184kB 18.4MB/s eta 0:00:01\r\u001b[K     |██████                          | 194kB 18.4MB/s eta 0:00:01\r\u001b[K     |██████▎                         | 204kB 18.4MB/s eta 0:00:01\r\u001b[K     |██████▋                         | 215kB 18.4MB/s eta 0:00:01\r\u001b[K     |███████                         | 225kB 18.4MB/s eta 0:00:01\r\u001b[K     |███████▎                        | 235kB 18.4MB/s eta 0:00:01\r\u001b[K     |███████▋                        | 245kB 18.4MB/s eta 0:00:01\r\u001b[K     |███████▉                        | 256kB 18.4MB/s eta 0:00:01\r\u001b[K     |████████▏                       | 266kB 18.4MB/s eta 0:00:01\r\u001b[K     |████████▌                       | 276kB 18.4MB/s eta 0:00:01\r\u001b[K     |████████▉                       | 286kB 18.4MB/s eta 0:00:01\r\u001b[K     |█████████▏                      | 296kB 18.4MB/s eta 0:00:01\r\u001b[K     |█████████▌                      | 307kB 18.4MB/s eta 0:00:01\r\u001b[K     |█████████▊                      | 317kB 18.4MB/s eta 0:00:01\r\u001b[K     |██████████                      | 327kB 18.4MB/s eta 0:00:01\r\u001b[K     |██████████▍                     | 337kB 18.4MB/s eta 0:00:01\r\u001b[K     |██████████▊                     | 348kB 18.4MB/s eta 0:00:01\r\u001b[K     |███████████                     | 358kB 18.4MB/s eta 0:00:01\r\u001b[K     |███████████▍                    | 368kB 18.4MB/s eta 0:00:01\r\u001b[K     |███████████▋                    | 378kB 18.4MB/s eta 0:00:01\r\u001b[K     |████████████                    | 389kB 18.4MB/s eta 0:00:01\r\u001b[K     |████████████▎                   | 399kB 18.4MB/s eta 0:00:01\r\u001b[K     |████████████▋                   | 409kB 18.4MB/s eta 0:00:01\r\u001b[K     |█████████████                   | 419kB 18.4MB/s eta 0:00:01\r\u001b[K     |█████████████▎                  | 430kB 18.4MB/s eta 0:00:01\r\u001b[K     |█████████████▌                  | 440kB 18.4MB/s eta 0:00:01\r\u001b[K     |█████████████▉                  | 450kB 18.4MB/s eta 0:00:01\r\u001b[K     |██████████████▏                 | 460kB 18.4MB/s eta 0:00:01\r\u001b[K     |██████████████▌                 | 471kB 18.4MB/s eta 0:00:01\r\u001b[K     |██████████████▉                 | 481kB 18.4MB/s eta 0:00:01\r\u001b[K     |███████████████▏                | 491kB 18.4MB/s eta 0:00:01\r\u001b[K     |███████████████▍                | 501kB 18.4MB/s eta 0:00:01\r\u001b[K     |███████████████▊                | 512kB 18.4MB/s eta 0:00:01\r\u001b[K     |████████████████                | 522kB 18.4MB/s eta 0:00:01\r\u001b[K     |████████████████▍               | 532kB 18.4MB/s eta 0:00:01\r\u001b[K     |████████████████▊               | 542kB 18.4MB/s eta 0:00:01\r\u001b[K     |█████████████████               | 552kB 18.4MB/s eta 0:00:01\r\u001b[K     |█████████████████▎              | 563kB 18.4MB/s eta 0:00:01\r\u001b[K     |█████████████████▋              | 573kB 18.4MB/s eta 0:00:01\r\u001b[K     |██████████████████              | 583kB 18.4MB/s eta 0:00:01\r\u001b[K     |██████████████████▎             | 593kB 18.4MB/s eta 0:00:01\r\u001b[K     |██████████████████▋             | 604kB 18.4MB/s eta 0:00:01\r\u001b[K     |███████████████████             | 614kB 18.4MB/s eta 0:00:01\r\u001b[K     |███████████████████▏            | 624kB 18.4MB/s eta 0:00:01\r\u001b[K     |███████████████████▌            | 634kB 18.4MB/s eta 0:00:01\r\u001b[K     |███████████████████▉            | 645kB 18.4MB/s eta 0:00:01\r\u001b[K     |████████████████████▏           | 655kB 18.4MB/s eta 0:00:01\r\u001b[K     |████████████████████▌           | 665kB 18.4MB/s eta 0:00:01\r\u001b[K     |████████████████████▉           | 675kB 18.4MB/s eta 0:00:01\r\u001b[K     |█████████████████████▏          | 686kB 18.4MB/s eta 0:00:01\r\u001b[K     |█████████████████████▍          | 696kB 18.4MB/s eta 0:00:01\r\u001b[K     |█████████████████████▊          | 706kB 18.4MB/s eta 0:00:01\r\u001b[K     |██████████████████████          | 716kB 18.4MB/s eta 0:00:01\r\u001b[K     |██████████████████████▍         | 727kB 18.4MB/s eta 0:00:01\r\u001b[K     |██████████████████████▊         | 737kB 18.4MB/s eta 0:00:01\r\u001b[K     |███████████████████████         | 747kB 18.4MB/s eta 0:00:01\r\u001b[K     |███████████████████████▎        | 757kB 18.4MB/s eta 0:00:01\r\u001b[K     |███████████████████████▋        | 768kB 18.4MB/s eta 0:00:01\r\u001b[K     |████████████████████████        | 778kB 18.4MB/s eta 0:00:01\r\u001b[K     |████████████████████████▎       | 788kB 18.4MB/s eta 0:00:01\r\u001b[K     |████████████████████████▋       | 798kB 18.4MB/s eta 0:00:01\r\u001b[K     |█████████████████████████       | 808kB 18.4MB/s eta 0:00:01\r\u001b[K     |█████████████████████████▏      | 819kB 18.4MB/s eta 0:00:01\r\u001b[K     |█████████████████████████▌      | 829kB 18.4MB/s eta 0:00:01\r\u001b[K     |█████████████████████████▉      | 839kB 18.4MB/s eta 0:00:01\r\u001b[K     |██████████████████████████▏     | 849kB 18.4MB/s eta 0:00:01\r\u001b[K     |██████████████████████████▌     | 860kB 18.4MB/s eta 0:00:01\r\u001b[K     |██████████████████████████▉     | 870kB 18.4MB/s eta 0:00:01\r\u001b[K     |███████████████████████████     | 880kB 18.4MB/s eta 0:00:01\r\u001b[K     |███████████████████████████▍    | 890kB 18.4MB/s eta 0:00:01\r\u001b[K     |███████████████████████████▊    | 901kB 18.4MB/s eta 0:00:01\r\u001b[K     |████████████████████████████    | 911kB 18.4MB/s eta 0:00:01\r\u001b[K     |████████████████████████████▍   | 921kB 18.4MB/s eta 0:00:01\r\u001b[K     |████████████████████████████▊   | 931kB 18.4MB/s eta 0:00:01\r\u001b[K     |█████████████████████████████   | 942kB 18.4MB/s eta 0:00:01\r\u001b[K     |█████████████████████████████▎  | 952kB 18.4MB/s eta 0:00:01\r\u001b[K     |█████████████████████████████▋  | 962kB 18.4MB/s eta 0:00:01\r\u001b[K     |██████████████████████████████  | 972kB 18.4MB/s eta 0:00:01\r\u001b[K     |██████████████████████████████▎ | 983kB 18.4MB/s eta 0:00:01\r\u001b[K     |██████████████████████████████▋ | 993kB 18.4MB/s eta 0:00:01\r\u001b[K     |██████████████████████████████▉ | 1.0MB 18.4MB/s eta 0:00:01\r\u001b[K     |███████████████████████████████▏| 1.0MB 18.4MB/s eta 0:00:01\r\u001b[K     |███████████████████████████████▌| 1.0MB 18.4MB/s eta 0:00:01\r\u001b[K     |███████████████████████████████▉| 1.0MB 18.4MB/s eta 0:00:01\r\u001b[K     |████████████████████████████████| 1.0MB 18.4MB/s \n",
            "\u001b[?25hCollecting sacremoses\n",
            "\u001b[?25l  Downloading https://files.pythonhosted.org/packages/a6/b4/7a41d630547a4afd58143597d5a49e07bfd4c42914d8335b2a5657efc14b/sacremoses-0.0.38.tar.gz (860kB)\n",
            "\r\u001b[K     |▍                               | 10kB 17.4MB/s eta 0:00:01\r\u001b[K     |▊                               | 20kB 24.7MB/s eta 0:00:01\r\u001b[K     |█▏                              | 30kB 31.1MB/s eta 0:00:01\r\u001b[K     |█▌                              | 40kB 34.9MB/s eta 0:00:01\r\u001b[K     |██                              | 51kB 28.1MB/s eta 0:00:01\r\u001b[K     |██▎                             | 61kB 31.0MB/s eta 0:00:01\r\u001b[K     |██▋                             | 71kB 25.8MB/s eta 0:00:01\r\u001b[K     |███                             | 81kB 21.3MB/s eta 0:00:01\r\u001b[K     |███▍                            | 92kB 23.0MB/s eta 0:00:01\r\u001b[K     |███▉                            | 102kB 21.9MB/s eta 0:00:01\r\u001b[K     |████▏                           | 112kB 21.9MB/s eta 0:00:01\r\u001b[K     |████▋                           | 122kB 21.9MB/s eta 0:00:01\r\u001b[K     |█████                           | 133kB 21.9MB/s eta 0:00:01\r\u001b[K     |█████▎                          | 143kB 21.9MB/s eta 0:00:01\r\u001b[K     |█████▊                          | 153kB 21.9MB/s eta 0:00:01\r\u001b[K     |██████                          | 163kB 21.9MB/s eta 0:00:01\r\u001b[K     |██████▌                         | 174kB 21.9MB/s eta 0:00:01\r\u001b[K     |██████▉                         | 184kB 21.9MB/s eta 0:00:01\r\u001b[K     |███████▎                        | 194kB 21.9MB/s eta 0:00:01\r\u001b[K     |███████▋                        | 204kB 21.9MB/s eta 0:00:01\r\u001b[K     |████████                        | 215kB 21.9MB/s eta 0:00:01\r\u001b[K     |████████▍                       | 225kB 21.9MB/s eta 0:00:01\r\u001b[K     |████████▊                       | 235kB 21.9MB/s eta 0:00:01\r\u001b[K     |█████████▏                      | 245kB 21.9MB/s eta 0:00:01\r\u001b[K     |█████████▌                      | 256kB 21.9MB/s eta 0:00:01\r\u001b[K     |██████████                      | 266kB 21.9MB/s eta 0:00:01\r\u001b[K     |██████████▎                     | 276kB 21.9MB/s eta 0:00:01\r\u001b[K     |██████████▋                     | 286kB 21.9MB/s eta 0:00:01\r\u001b[K     |███████████                     | 296kB 21.9MB/s eta 0:00:01\r\u001b[K     |███████████▍                    | 307kB 21.9MB/s eta 0:00:01\r\u001b[K     |███████████▉                    | 317kB 21.9MB/s eta 0:00:01\r\u001b[K     |████████████▏                   | 327kB 21.9MB/s eta 0:00:01\r\u001b[K     |████████████▋                   | 337kB 21.9MB/s eta 0:00:01\r\u001b[K     |█████████████                   | 348kB 21.9MB/s eta 0:00:01\r\u001b[K     |█████████████▎                  | 358kB 21.9MB/s eta 0:00:01\r\u001b[K     |█████████████▊                  | 368kB 21.9MB/s eta 0:00:01\r\u001b[K     |██████████████                  | 378kB 21.9MB/s eta 0:00:01\r\u001b[K     |██████████████▌                 | 389kB 21.9MB/s eta 0:00:01\r\u001b[K     |██████████████▉                 | 399kB 21.9MB/s eta 0:00:01\r\u001b[K     |███████████████▎                | 409kB 21.9MB/s eta 0:00:01\r\u001b[K     |███████████████▋                | 419kB 21.9MB/s eta 0:00:01\r\u001b[K     |████████████████                | 430kB 21.9MB/s eta 0:00:01\r\u001b[K     |████████████████▍               | 440kB 21.9MB/s eta 0:00:01\r\u001b[K     |████████████████▊               | 450kB 21.9MB/s eta 0:00:01\r\u001b[K     |█████████████████▏              | 460kB 21.9MB/s eta 0:00:01\r\u001b[K     |█████████████████▌              | 471kB 21.9MB/s eta 0:00:01\r\u001b[K     |██████████████████              | 481kB 21.9MB/s eta 0:00:01\r\u001b[K     |██████████████████▎             | 491kB 21.9MB/s eta 0:00:01\r\u001b[K     |██████████████████▋             | 501kB 21.9MB/s eta 0:00:01\r\u001b[K     |███████████████████             | 512kB 21.9MB/s eta 0:00:01\r\u001b[K     |███████████████████▍            | 522kB 21.9MB/s eta 0:00:01\r\u001b[K     |███████████████████▉            | 532kB 21.9MB/s eta 0:00:01\r\u001b[K     |████████████████████▏           | 542kB 21.9MB/s eta 0:00:01\r\u001b[K     |████████████████████▋           | 552kB 21.9MB/s eta 0:00:01\r\u001b[K     |█████████████████████           | 563kB 21.9MB/s eta 0:00:01\r\u001b[K     |█████████████████████▎          | 573kB 21.9MB/s eta 0:00:01\r\u001b[K     |█████████████████████▊          | 583kB 21.9MB/s eta 0:00:01\r\u001b[K     |██████████████████████          | 593kB 21.9MB/s eta 0:00:01\r\u001b[K     |██████████████████████▌         | 604kB 21.9MB/s eta 0:00:01\r\u001b[K     |██████████████████████▉         | 614kB 21.9MB/s eta 0:00:01\r\u001b[K     |███████████████████████▏        | 624kB 21.9MB/s eta 0:00:01\r\u001b[K     |███████████████████████▋        | 634kB 21.9MB/s eta 0:00:01\r\u001b[K     |████████████████████████        | 645kB 21.9MB/s eta 0:00:01\r\u001b[K     |████████████████████████▍       | 655kB 21.9MB/s eta 0:00:01\r\u001b[K     |████████████████████████▊       | 665kB 21.9MB/s eta 0:00:01\r\u001b[K     |█████████████████████████▏      | 675kB 21.9MB/s eta 0:00:01\r\u001b[K     |█████████████████████████▌      | 686kB 21.9MB/s eta 0:00:01\r\u001b[K     |█████████████████████████▉      | 696kB 21.9MB/s eta 0:00:01\r\u001b[K     |██████████████████████████▎     | 706kB 21.9MB/s eta 0:00:01\r\u001b[K     |██████████████████████████▋     | 716kB 21.9MB/s eta 0:00:01\r\u001b[K     |███████████████████████████     | 727kB 21.9MB/s eta 0:00:01\r\u001b[K     |███████████████████████████▍    | 737kB 21.9MB/s eta 0:00:01\r\u001b[K     |███████████████████████████▉    | 747kB 21.9MB/s eta 0:00:01\r\u001b[K     |████████████████████████████▏   | 757kB 21.9MB/s eta 0:00:01\r\u001b[K     |████████████████████████████▌   | 768kB 21.9MB/s eta 0:00:01\r\u001b[K     |█████████████████████████████   | 778kB 21.9MB/s eta 0:00:01\r\u001b[K     |█████████████████████████████▎  | 788kB 21.9MB/s eta 0:00:01\r\u001b[K     |█████████████████████████████▊  | 798kB 21.9MB/s eta 0:00:01\r\u001b[K     |██████████████████████████████  | 808kB 21.9MB/s eta 0:00:01\r\u001b[K     |██████████████████████████████▌ | 819kB 21.9MB/s eta 0:00:01\r\u001b[K     |██████████████████████████████▉ | 829kB 21.9MB/s eta 0:00:01\r\u001b[K     |███████████████████████████████▏| 839kB 21.9MB/s eta 0:00:01\r\u001b[K     |███████████████████████████████▋| 849kB 21.9MB/s eta 0:00:01\r\u001b[K     |████████████████████████████████| 860kB 21.9MB/s eta 0:00:01\r\u001b[K     |████████████████████████████████| 870kB 21.9MB/s \n",
            "\u001b[?25hRequirement already satisfied, skipping upgrade: requests in /usr/local/lib/python3.6/dist-packages (from transformers==2.3.0->sentence-transformers) (2.21.0)\n",
            "Requirement already satisfied, skipping upgrade: joblib>=0.11 in /usr/local/lib/python3.6/dist-packages (from scikit-learn->sentence-transformers) (0.14.1)\n",
            "Requirement already satisfied, skipping upgrade: six in /usr/local/lib/python3.6/dist-packages (from nltk->sentence-transformers) (1.12.0)\n",
            "Requirement already satisfied, skipping upgrade: botocore<1.15.0,>=1.14.10 in /usr/local/lib/python3.6/dist-packages (from boto3->transformers==2.3.0->sentence-transformers) (1.14.10)\n",
            "Requirement already satisfied, skipping upgrade: s3transfer<0.4.0,>=0.3.0 in /usr/local/lib/python3.6/dist-packages (from boto3->transformers==2.3.0->sentence-transformers) (0.3.2)\n",
            "Requirement already satisfied, skipping upgrade: jmespath<1.0.0,>=0.7.1 in /usr/local/lib/python3.6/dist-packages (from boto3->transformers==2.3.0->sentence-transformers) (0.9.4)\n",
            "Requirement already satisfied, skipping upgrade: click in /usr/local/lib/python3.6/dist-packages (from sacremoses->transformers==2.3.0->sentence-transformers) (7.0)\n",
            "Requirement already satisfied, skipping upgrade: certifi>=2017.4.17 in /usr/local/lib/python3.6/dist-packages (from requests->transformers==2.3.0->sentence-transformers) (2019.11.28)\n",
            "Requirement already satisfied, skipping upgrade: chardet<3.1.0,>=3.0.2 in /usr/local/lib/python3.6/dist-packages (from requests->transformers==2.3.0->sentence-transformers) (3.0.4)\n",
            "Requirement already satisfied, skipping upgrade: idna<2.9,>=2.5 in /usr/local/lib/python3.6/dist-packages (from requests->transformers==2.3.0->sentence-transformers) (2.8)\n",
            "Requirement already satisfied, skipping upgrade: urllib3<1.25,>=1.21.1 in /usr/local/lib/python3.6/dist-packages (from requests->transformers==2.3.0->sentence-transformers) (1.24.3)\n",
            "Requirement already satisfied, skipping upgrade: docutils<0.16,>=0.10 in /usr/local/lib/python3.6/dist-packages (from botocore<1.15.0,>=1.14.10->boto3->transformers==2.3.0->sentence-transformers) (0.15.2)\n",
            "Requirement already satisfied, skipping upgrade: python-dateutil<3.0.0,>=2.1 in /usr/local/lib/python3.6/dist-packages (from botocore<1.15.0,>=1.14.10->boto3->transformers==2.3.0->sentence-transformers) (2.6.1)\n",
            "Building wheels for collected packages: sentence-transformers, sacremoses\n",
            "  Building wheel for sentence-transformers (setup.py) ... \u001b[?25l\u001b[?25hdone\n",
            "  Created wheel for sentence-transformers: filename=sentence_transformers-0.2.5-cp36-none-any.whl size=64942 sha256=a73ecee1710cefe65e2251866f92e69daf996f06f91cb3e599f5fcc6053bf832\n",
            "  Stored in directory: /root/.cache/pip/wheels/b4/ce/39/5bbda8ac34eb52df8c6531382ca077773fbfcbfb6386e5d66c\n",
            "  Building wheel for sacremoses (setup.py) ... \u001b[?25l\u001b[?25hdone\n",
            "  Created wheel for sacremoses: filename=sacremoses-0.0.38-cp36-none-any.whl size=884628 sha256=5dce6ec4e0765128ac5d7fb02c4142e8bf3813ef4c49cef356c3e32f900558ff\n",
            "  Stored in directory: /root/.cache/pip/wheels/6d/ec/1a/21b8912e35e02741306f35f66c785f3afe94de754a0eaf1422\n",
            "Successfully built sentence-transformers sacremoses\n",
            "Installing collected packages: sentencepiece, sacremoses, transformers, sentence-transformers\n",
            "Successfully installed sacremoses-0.0.38 sentence-transformers-0.2.5 sentencepiece-0.1.85 transformers-2.3.0\n"
          ],
          "name": "stdout"
        }
      ]
    },
    {
      "cell_type": "code",
      "metadata": {
        "id": "KouOgDgw8aH0",
        "colab_type": "code",
        "colab": {
          "base_uri": "https://localhost:8080/",
          "height": 85
        },
        "outputId": "9fd5bb3c-9745-4d72-dbc5-43bc96f9fffd"
      },
      "source": [
        "from sentence_transformers import SentenceTransformer\n",
        "import scipy.spatial\n",
        "embedder = SentenceTransformer('bert-base-nli-mean-tokens')\n",
        "\n",
        "main_text = [\"Cricket is played in India\",\n",
        "          \"Traveling is good for health\", \n",
        "          \"People love traveling in winter\"]\n",
        "main_text_embeddings = embedder.encode(main_text)\n",
        "\n",
        "# Query sentences:\n",
        "queries = [\"Football is played in Brazil\"]\n",
        "query_text_embeddings = embedder.encode(queries)\n",
        "\n",
        "closest_sent = 1\n",
        "for query, query_embedding in zip(queries, query_text_embeddings):\n",
        "    distances = scipy.spatial.distance.cdist([query_embedding],main_text_embeddings, \"cosine\")[0]\n",
        "    results = zip(range(len(distances)), distances)\n",
        "    results = sorted(results, key=lambda x: x[1])\n",
        "    print(\"Query:\", query)\n",
        "    print(\"\\nTop similar sentence:\")\n",
        "    for idx, distance in results[0:closest_sent]:\n",
        "        print(main_text[idx].strip(), \"(Score: %.4f)\" % (1-distance))\n",
        "\n",
        "\n"
      ],
      "execution_count": 19,
      "outputs": [
        {
          "output_type": "stream",
          "text": [
            "Query: Football is played in Brazil\n",
            "\n",
            "Top similar sentence:\n",
            "Cricket is played in India (Score: 0.3517)\n"
          ],
          "name": "stdout"
        }
      ]
    }
  ]
}